{
  "cells": [
    {
      "cell_type": "code",
      "execution_count": null,
      "metadata": {
        "id": "N8GASkY8mJuH"
      },
      "outputs": [],
      "source": [
        "from google.colab import drive\n",
        "drive.mount('/content/drive')\n",
        "\n",
        "\n",
        "!pip install lightfm\n",
        "!pip install optuna"
      ]
    },
    {
      "cell_type": "code",
      "execution_count": null,
      "metadata": {
        "id": "Hfks43d4xzFu"
      },
      "outputs": [],
      "source": [
        "import pandas as pd\n",
        "import numpy as np\n",
        "import scipy.stats as ss\n",
        "\n",
        "import lightfm\n",
        "import lightfm.data as ld\n",
        "import lightfm.evaluation as lv\n",
        "\n",
        "import glob\n",
        "import tqdm\n",
        "import json\n",
        "import optuna\n",
        "\n",
        "import matplotlib.pyplot as pl\n",
        "import seaborn as sns\n",
        "\n",
        "np.random.seed(31337)"
      ]
    },
    {
      "cell_type": "code",
      "execution_count": null,
      "metadata": {
        "id": "QI0qE9bMmht9"
      },
      "outputs": [],
      "source": [
        "import pandas as pd\n",
        "test_df = pd.read_csv('/content/drive/My Drive/recsys/hw1/test.csv')\n",
        "test_df['test'] = True\n",
        "test_df['time'] = 100\n",
        "train_df = pd.read_csv('/content/drive/My Drive/recsys/hw1/train.csv')\n",
        "train_df['test'] = False"
      ]
    },
    {
      "cell_type": "markdown",
      "metadata": {
        "id": "QmRPRzj4QPEF"
      },
      "source": [
        "## Берем позитивные примеры"
      ]
    },
    {
      "cell_type": "code",
      "execution_count": null,
      "metadata": {
        "colab": {
          "base_uri": "https://localhost:8080/",
          "height": 206
        },
        "id": "Wz-1P0Gux8uY",
        "outputId": "733f6614-6613-4489-e1b7-a939dd41e32f"
      },
      "outputs": [
        {
          "output_type": "execute_result",
          "data": {
            "text/plain": [
              "                                                user  track  time   test\n",
              "0  ee8621197232afef4ae573079d64480ba7640c9eb91a7e...  41378   1.0  False\n",
              "1  9b19f9ab816598a0809e4afd5d60800f2dbef9cbb9b03a...  44158   0.0  False\n",
              "2  be3d629f02589a093027c0b917aa7668f22b2f89e83328...   1263   0.8  False\n",
              "3  3d810b358ef3f88619945df4182acda92a24e99c8b28e8...   3781   0.0  False\n",
              "4  2261b761b06d13e4ca4118d58d91eb7312ae864b2916d7...  32711   0.0  False"
            ],
            "text/html": [
              "\n",
              "  <div id=\"df-1835be17-48ca-4f2a-a3f6-38e529ea3787\" class=\"colab-df-container\">\n",
              "    <div>\n",
              "<style scoped>\n",
              "    .dataframe tbody tr th:only-of-type {\n",
              "        vertical-align: middle;\n",
              "    }\n",
              "\n",
              "    .dataframe tbody tr th {\n",
              "        vertical-align: top;\n",
              "    }\n",
              "\n",
              "    .dataframe thead th {\n",
              "        text-align: right;\n",
              "    }\n",
              "</style>\n",
              "<table border=\"1\" class=\"dataframe\">\n",
              "  <thead>\n",
              "    <tr style=\"text-align: right;\">\n",
              "      <th></th>\n",
              "      <th>user</th>\n",
              "      <th>track</th>\n",
              "      <th>time</th>\n",
              "      <th>test</th>\n",
              "    </tr>\n",
              "  </thead>\n",
              "  <tbody>\n",
              "    <tr>\n",
              "      <th>0</th>\n",
              "      <td>ee8621197232afef4ae573079d64480ba7640c9eb91a7e...</td>\n",
              "      <td>41378</td>\n",
              "      <td>1.0</td>\n",
              "      <td>False</td>\n",
              "    </tr>\n",
              "    <tr>\n",
              "      <th>1</th>\n",
              "      <td>9b19f9ab816598a0809e4afd5d60800f2dbef9cbb9b03a...</td>\n",
              "      <td>44158</td>\n",
              "      <td>0.0</td>\n",
              "      <td>False</td>\n",
              "    </tr>\n",
              "    <tr>\n",
              "      <th>2</th>\n",
              "      <td>be3d629f02589a093027c0b917aa7668f22b2f89e83328...</td>\n",
              "      <td>1263</td>\n",
              "      <td>0.8</td>\n",
              "      <td>False</td>\n",
              "    </tr>\n",
              "    <tr>\n",
              "      <th>3</th>\n",
              "      <td>3d810b358ef3f88619945df4182acda92a24e99c8b28e8...</td>\n",
              "      <td>3781</td>\n",
              "      <td>0.0</td>\n",
              "      <td>False</td>\n",
              "    </tr>\n",
              "    <tr>\n",
              "      <th>4</th>\n",
              "      <td>2261b761b06d13e4ca4118d58d91eb7312ae864b2916d7...</td>\n",
              "      <td>32711</td>\n",
              "      <td>0.0</td>\n",
              "      <td>False</td>\n",
              "    </tr>\n",
              "  </tbody>\n",
              "</table>\n",
              "</div>\n",
              "    <div class=\"colab-df-buttons\">\n",
              "\n",
              "  <div class=\"colab-df-container\">\n",
              "    <button class=\"colab-df-convert\" onclick=\"convertToInteractive('df-1835be17-48ca-4f2a-a3f6-38e529ea3787')\"\n",
              "            title=\"Convert this dataframe to an interactive table.\"\n",
              "            style=\"display:none;\">\n",
              "\n",
              "  <svg xmlns=\"http://www.w3.org/2000/svg\" height=\"24px\" viewBox=\"0 -960 960 960\">\n",
              "    <path d=\"M120-120v-720h720v720H120Zm60-500h600v-160H180v160Zm220 220h160v-160H400v160Zm0 220h160v-160H400v160ZM180-400h160v-160H180v160Zm440 0h160v-160H620v160ZM180-180h160v-160H180v160Zm440 0h160v-160H620v160Z\"/>\n",
              "  </svg>\n",
              "    </button>\n",
              "\n",
              "  <style>\n",
              "    .colab-df-container {\n",
              "      display:flex;\n",
              "      gap: 12px;\n",
              "    }\n",
              "\n",
              "    .colab-df-convert {\n",
              "      background-color: #E8F0FE;\n",
              "      border: none;\n",
              "      border-radius: 50%;\n",
              "      cursor: pointer;\n",
              "      display: none;\n",
              "      fill: #1967D2;\n",
              "      height: 32px;\n",
              "      padding: 0 0 0 0;\n",
              "      width: 32px;\n",
              "    }\n",
              "\n",
              "    .colab-df-convert:hover {\n",
              "      background-color: #E2EBFA;\n",
              "      box-shadow: 0px 1px 2px rgba(60, 64, 67, 0.3), 0px 1px 3px 1px rgba(60, 64, 67, 0.15);\n",
              "      fill: #174EA6;\n",
              "    }\n",
              "\n",
              "    .colab-df-buttons div {\n",
              "      margin-bottom: 4px;\n",
              "    }\n",
              "\n",
              "    [theme=dark] .colab-df-convert {\n",
              "      background-color: #3B4455;\n",
              "      fill: #D2E3FC;\n",
              "    }\n",
              "\n",
              "    [theme=dark] .colab-df-convert:hover {\n",
              "      background-color: #434B5C;\n",
              "      box-shadow: 0px 1px 3px 1px rgba(0, 0, 0, 0.15);\n",
              "      filter: drop-shadow(0px 1px 2px rgba(0, 0, 0, 0.3));\n",
              "      fill: #FFFFFF;\n",
              "    }\n",
              "  </style>\n",
              "\n",
              "    <script>\n",
              "      const buttonEl =\n",
              "        document.querySelector('#df-1835be17-48ca-4f2a-a3f6-38e529ea3787 button.colab-df-convert');\n",
              "      buttonEl.style.display =\n",
              "        google.colab.kernel.accessAllowed ? 'block' : 'none';\n",
              "\n",
              "      async function convertToInteractive(key) {\n",
              "        const element = document.querySelector('#df-1835be17-48ca-4f2a-a3f6-38e529ea3787');\n",
              "        const dataTable =\n",
              "          await google.colab.kernel.invokeFunction('convertToInteractive',\n",
              "                                                    [key], {});\n",
              "        if (!dataTable) return;\n",
              "\n",
              "        const docLinkHtml = 'Like what you see? Visit the ' +\n",
              "          '<a target=\"_blank\" href=https://colab.research.google.com/notebooks/data_table.ipynb>data table notebook</a>'\n",
              "          + ' to learn more about interactive tables.';\n",
              "        element.innerHTML = '';\n",
              "        dataTable['output_type'] = 'display_data';\n",
              "        await google.colab.output.renderOutput(dataTable, element);\n",
              "        const docLink = document.createElement('div');\n",
              "        docLink.innerHTML = docLinkHtml;\n",
              "        element.appendChild(docLink);\n",
              "      }\n",
              "    </script>\n",
              "  </div>\n",
              "\n",
              "\n",
              "<div id=\"df-26eea3c5-3c82-4ee9-9ee0-4e6d7a758cf6\">\n",
              "  <button class=\"colab-df-quickchart\" onclick=\"quickchart('df-26eea3c5-3c82-4ee9-9ee0-4e6d7a758cf6')\"\n",
              "            title=\"Suggest charts\"\n",
              "            style=\"display:none;\">\n",
              "\n",
              "<svg xmlns=\"http://www.w3.org/2000/svg\" height=\"24px\"viewBox=\"0 0 24 24\"\n",
              "     width=\"24px\">\n",
              "    <g>\n",
              "        <path d=\"M19 3H5c-1.1 0-2 .9-2 2v14c0 1.1.9 2 2 2h14c1.1 0 2-.9 2-2V5c0-1.1-.9-2-2-2zM9 17H7v-7h2v7zm4 0h-2V7h2v10zm4 0h-2v-4h2v4z\"/>\n",
              "    </g>\n",
              "</svg>\n",
              "  </button>\n",
              "\n",
              "<style>\n",
              "  .colab-df-quickchart {\n",
              "      --bg-color: #E8F0FE;\n",
              "      --fill-color: #1967D2;\n",
              "      --hover-bg-color: #E2EBFA;\n",
              "      --hover-fill-color: #174EA6;\n",
              "      --disabled-fill-color: #AAA;\n",
              "      --disabled-bg-color: #DDD;\n",
              "  }\n",
              "\n",
              "  [theme=dark] .colab-df-quickchart {\n",
              "      --bg-color: #3B4455;\n",
              "      --fill-color: #D2E3FC;\n",
              "      --hover-bg-color: #434B5C;\n",
              "      --hover-fill-color: #FFFFFF;\n",
              "      --disabled-bg-color: #3B4455;\n",
              "      --disabled-fill-color: #666;\n",
              "  }\n",
              "\n",
              "  .colab-df-quickchart {\n",
              "    background-color: var(--bg-color);\n",
              "    border: none;\n",
              "    border-radius: 50%;\n",
              "    cursor: pointer;\n",
              "    display: none;\n",
              "    fill: var(--fill-color);\n",
              "    height: 32px;\n",
              "    padding: 0;\n",
              "    width: 32px;\n",
              "  }\n",
              "\n",
              "  .colab-df-quickchart:hover {\n",
              "    background-color: var(--hover-bg-color);\n",
              "    box-shadow: 0 1px 2px rgba(60, 64, 67, 0.3), 0 1px 3px 1px rgba(60, 64, 67, 0.15);\n",
              "    fill: var(--button-hover-fill-color);\n",
              "  }\n",
              "\n",
              "  .colab-df-quickchart-complete:disabled,\n",
              "  .colab-df-quickchart-complete:disabled:hover {\n",
              "    background-color: var(--disabled-bg-color);\n",
              "    fill: var(--disabled-fill-color);\n",
              "    box-shadow: none;\n",
              "  }\n",
              "\n",
              "  .colab-df-spinner {\n",
              "    border: 2px solid var(--fill-color);\n",
              "    border-color: transparent;\n",
              "    border-bottom-color: var(--fill-color);\n",
              "    animation:\n",
              "      spin 1s steps(1) infinite;\n",
              "  }\n",
              "\n",
              "  @keyframes spin {\n",
              "    0% {\n",
              "      border-color: transparent;\n",
              "      border-bottom-color: var(--fill-color);\n",
              "      border-left-color: var(--fill-color);\n",
              "    }\n",
              "    20% {\n",
              "      border-color: transparent;\n",
              "      border-left-color: var(--fill-color);\n",
              "      border-top-color: var(--fill-color);\n",
              "    }\n",
              "    30% {\n",
              "      border-color: transparent;\n",
              "      border-left-color: var(--fill-color);\n",
              "      border-top-color: var(--fill-color);\n",
              "      border-right-color: var(--fill-color);\n",
              "    }\n",
              "    40% {\n",
              "      border-color: transparent;\n",
              "      border-right-color: var(--fill-color);\n",
              "      border-top-color: var(--fill-color);\n",
              "    }\n",
              "    60% {\n",
              "      border-color: transparent;\n",
              "      border-right-color: var(--fill-color);\n",
              "    }\n",
              "    80% {\n",
              "      border-color: transparent;\n",
              "      border-right-color: var(--fill-color);\n",
              "      border-bottom-color: var(--fill-color);\n",
              "    }\n",
              "    90% {\n",
              "      border-color: transparent;\n",
              "      border-bottom-color: var(--fill-color);\n",
              "    }\n",
              "  }\n",
              "</style>\n",
              "\n",
              "  <script>\n",
              "    async function quickchart(key) {\n",
              "      const quickchartButtonEl =\n",
              "        document.querySelector('#' + key + ' button');\n",
              "      quickchartButtonEl.disabled = true;  // To prevent multiple clicks.\n",
              "      quickchartButtonEl.classList.add('colab-df-spinner');\n",
              "      try {\n",
              "        const charts = await google.colab.kernel.invokeFunction(\n",
              "            'suggestCharts', [key], {});\n",
              "      } catch (error) {\n",
              "        console.error('Error during call to suggestCharts:', error);\n",
              "      }\n",
              "      quickchartButtonEl.classList.remove('colab-df-spinner');\n",
              "      quickchartButtonEl.classList.add('colab-df-quickchart-complete');\n",
              "    }\n",
              "    (() => {\n",
              "      let quickchartButtonEl =\n",
              "        document.querySelector('#df-26eea3c5-3c82-4ee9-9ee0-4e6d7a758cf6 button');\n",
              "      quickchartButtonEl.style.display =\n",
              "        google.colab.kernel.accessAllowed ? 'block' : 'none';\n",
              "    })();\n",
              "  </script>\n",
              "</div>\n",
              "    </div>\n",
              "  </div>\n"
            ],
            "application/vnd.google.colaboratory.intrinsic+json": {
              "type": "dataframe",
              "variable_name": "positives"
            }
          },
          "metadata": {},
          "execution_count": 6
        }
      ],
      "source": [
        "# прежде чем что-то обучать, нужно выбрать позитивные примеры, на которых будем строить LightFM\n",
        "# здесь можно поменять порог\n",
        "data  = pd.concat([train_df, test_df])\n",
        "\n",
        "positives = data[data[\"time\"] >= 0.0].copy()\n",
        "positives.drop_duplicates([\"user\", \"track\"], inplace=True)\n",
        "positives.head()"
      ]
    },
    {
      "cell_type": "markdown",
      "metadata": {
        "id": "l9phcF5bPvAR"
      },
      "source": [
        "## Собираем каталог пользователей и треков для трейна"
      ]
    },
    {
      "cell_type": "code",
      "execution_count": null,
      "metadata": {
        "id": "4Tb5agWdx-cA"
      },
      "outputs": [],
      "source": [
        "# собираем каталог пользователей и треков, для которых и на которых хотим делать рекомендации (потом поменяем число)\n",
        "user_counts = positives[~positives[\"test\"]].groupby(\"user\").size()\n",
        "users = set(user_counts[user_counts >= 5].index.values)\n",
        "\n",
        "track_counts = positives[~positives[\"test\"]].groupby(\"track\").size()\n",
        "tracks = set(track_counts[track_counts >= 5].index.values)"
      ]
    },
    {
      "cell_type": "markdown",
      "metadata": {
        "id": "jhnVW4EgC5Py"
      },
      "source": [
        "## Всякие полезные функции"
      ]
    },
    {
      "cell_type": "code",
      "execution_count": null,
      "metadata": {
        "id": "_4O0DoeAC5Py"
      },
      "outputs": [],
      "source": [
        "def get_test_csv(test_data, predictions):\n",
        "    test_data['score'] = predictions\n",
        "    test_data.to_csv('results.csv')\n"
      ]
    },
    {
      "cell_type": "markdown",
      "metadata": {
        "id": "vie66njoQAJL"
      },
      "source": [
        "## Train LightFM"
      ]
    },
    {
      "cell_type": "code",
      "execution_count": null,
      "metadata": {
        "colab": {
          "base_uri": "https://localhost:8080/"
        },
        "id": "Jx_sm9LWygfP",
        "outputId": "cdad1a85-7fe7-4e7b-efde-76ad56d1783b"
      },
      "outputs": [
        {
          "output_type": "execute_result",
          "data": {
            "text/plain": [
              "(1671368, 38790)"
            ]
          },
          "metadata": {},
          "execution_count": 9
        }
      ],
      "source": [
        "# почему у нас для теста и трейна одинаковые пользователи и треки и можно ли это как-то обойти?\n",
        "# Если бы мы включили в Train идентификаторы пользователей с холодным запуском, они бы не взаимодействовали.\n",
        "# Если мы включим их в тест, а не в обучение, то LightFM выдаст ошибку, когда увидит новый идентификатор,\n",
        "# поскольку у него не будет соответствующей функции идентификации для нового элемента/пользователя.\n",
        "train_data = positives[~positives[\"test\"] & positives[\"user\"].isin(users) & positives[\"track\"].isin(tracks)]\n",
        "test_data = positives[positives[\"test\"] & positives[\"user\"].isin(users) & positives[\"track\"].isin(tracks)]\n",
        "\n",
        "len(train_data), len(test_data)"
      ]
    },
    {
      "cell_type": "code",
      "execution_count": null,
      "metadata": {
        "id": "FvapsY6Yy756"
      },
      "outputs": [],
      "source": [
        "# каждая строчка матрицы пользователя будет эмбеддингом пользователя\n",
        "# каждая строчка матрицы трека будет эмбеддингом трека\n",
        "dataset = ld.Dataset()\n",
        "dataset.fit(users, tracks)\n",
        "# в качестве item_features и user_features можно добавить всякую хуйню из tracks.json"
      ]
    },
    {
      "cell_type": "code",
      "execution_count": null,
      "metadata": {
        "id": "JpDkLFN_1kU6"
      },
      "outputs": [],
      "source": [
        "# строим матрицы интеракций (матрица взаимодействий пользователей и треков)\n",
        "train_interactions, weights = dataset.build_interactions(train_data[[\"user\", \"track\",\"time\"]].itertuples(index=False, name=None))\n",
        "test_interactions, _ = dataset.build_interactions(test_data[[\"user\", \"track\"]].itertuples(index=False, name=None))"
      ]
    },
    {
      "cell_type": "code",
      "execution_count": null,
      "metadata": {
        "id": "1RrD2JQc1yau"
      },
      "outputs": [],
      "source": [
        "def fit_model(\n",
        "        epochs=1,\n",
        "        at=10,  # то самое K, с помощью которого мы будем измерять precisions@k\n",
        "        loss=\"warp\",  # функция потерь\n",
        "        no_components=30,  # размерность эмбеддингов\n",
        "        learning_rate=0.01,\n",
        "        max_sampled=10,\n",
        "        # количество негативных айтемов, которые мы сэмплируем до тех пор пока не найдем первые непрвтльные отранжированную пару\n",
        "        # два параметра регуляризации\n",
        "        user_alpha=0.0,\n",
        "        item_alpha=0.0,\n",
        "        # всякие технические параметры\n",
        "        threads=30,\n",
        "        verbose=False,\n",
        "        patience=3,\n",
        "        epsilon=1e-6,\n",
        "):\n",
        "    model = lightfm.LightFM(\n",
        "        no_components=no_components,\n",
        "        loss=loss,\n",
        "        learning_rate=learning_rate,\n",
        "        max_sampled=max_sampled,\n",
        "        user_alpha=user_alpha,\n",
        "        item_alpha=item_alpha,\n",
        "    )\n",
        "\n",
        "    precisions_at = []\n",
        "\n",
        "    for epoch in range(epochs):\n",
        "        model = model.fit_partial(train_interactions, sample_weight=weights, num_threads=threads)\n",
        "        # считаем метрику\n",
        "        precision_at = lv.precision_at_k(model, test_interactions, train_interactions=train_interactions, k=at,\n",
        "                                         num_threads=threads)\n",
        "\n",
        "        if verbose:\n",
        "            print(f\"{epoch}:\\t{np.mean(precision_at)} +/- {ss.sem(precision_at) * 1.96}\")\n",
        "\n",
        "        precisions_at.append(np.mean(precision_at))\n",
        "\n",
        "        if epoch > patience and all(\n",
        "                [precisions_at[-j] - precisions_at[-patience - 1] < epsilon for j in range(1, patience + 1)]):\n",
        "            if verbose:\n",
        "                print(\"Early stopiing!\")\n",
        "            # break\n",
        "\n",
        "    else:\n",
        "        if verbose:\n",
        "            print(\"No early stopiing happened: increase epochs maybe?\")\n",
        "\n",
        "    return model, precisions_at\n",
        "\n",
        "\n",
        "def objective(trial):\n",
        "    loss = trial.suggest_categorical(\"loss\", [\"warp\"])\n",
        "    no_components = trial.suggest_categorical(\"no_components\", [30, 40, 60, 70, 80])\n",
        "    learning_rate = trial.suggest_categorical(\"learning_rate\", [0.01, 0.05, 0.1])\n",
        "    max_sampled = trial.suggest_categorical(\"max_sampled\", [1000, 10000, 50000, 100000, 200000])\n",
        "    user_alpha = trial.suggest_categorical(\"user_alpha\", [0.0, 0.1, 0.0001])\n",
        "    item_alpha = trial.suggest_categorical(\"item_alpha\", [0.0, 0.1, 0.0001])\n",
        "\n",
        "    model, precisions_at = fit_model(\n",
        "        epochs=20,\n",
        "        at=10,\n",
        "        loss=loss,\n",
        "        no_components=no_components,\n",
        "        learning_rate=learning_rate,\n",
        "        max_sampled=max_sampled,\n",
        "        user_alpha=user_alpha,\n",
        "        item_alpha=item_alpha,\n",
        "    )\n",
        "\n",
        "    return precisions_at[-1]"
      ]
    },
    {
      "cell_type": "code",
      "execution_count": null,
      "metadata": {
        "id": "s64cjWwC2_-2"
      },
      "outputs": [],
      "source": [
        "study = optuna.create_study(direction=\"maximize\")\n",
        "study.optimize(objective, n_trials=10)\n",
        "best_params = study.best_params\n",
        "best_params"
      ]
    },
    {
      "cell_type": "code",
      "execution_count": null,
      "metadata": {
        "id": "92xkRqrYNmOA",
        "outputId": "c890fb3c-cf7a-4498-8984-b133a5466c8f"
      },
      "outputs": [
        {
          "data": {
            "text/plain": [
              "{'item_alpha': 0.2781017856877268,\n",
              " 'no_components': 0.2692654486151563,\n",
              " 'max_sampled': 0.18776952199638816,\n",
              " 'learning_rate': 0.18275583764742334,\n",
              " 'user_alpha': 0.08210740605330549,\n",
              " 'loss': 0.0}"
            ]
          },
          "execution_count": 85,
          "metadata": {},
          "output_type": "execute_result"
        }
      ],
      "source": [
        "# нужно, чтобы посмотреть, насколько важен тот или иной гиперпараметр\n",
        "optuna.importance.get_param_importances(study)"
      ]
    },
    {
      "cell_type": "code",
      "execution_count": null,
      "metadata": {
        "id": "tFacSt41C5P0"
      },
      "outputs": [],
      "source": [
        "# model, precisions_at = fit_model(\n",
        "#     epochs=300,\n",
        "#     at=10,\n",
        "#     loss=best_params[\"loss\"],\n",
        "#     no_components=best_params[\"no_components\"],\n",
        "#     learning_rate=best_params[\"learning_rate\"],\n",
        "#     max_sampled=best_params[\"max_sampled\"],\n",
        "#     user_alpha=best_params[\"user_alpha\"],\n",
        "#     item_alpha=best_params[\"item_alpha\"],\n",
        "#     verbose=True,\n",
        "# )\n",
        "\n",
        "model, precisions_at = fit_model(\n",
        "    epochs=300,\n",
        "    at=10,\n",
        "    loss='warp',\n",
        "    no_components=40,\n",
        "    learning_rate=0.1,\n",
        "    max_sampled=100000,\n",
        "    user_alpha=0.0,\n",
        "    item_alpha=0.0,\n",
        "    verbose=True,\n",
        ")"
      ]
    },
    {
      "cell_type": "code",
      "execution_count": null,
      "metadata": {
        "id": "Tpa2jVzQC5P0",
        "outputId": "1204fa5a-fb74-42bb-f905-99467aba65a5"
      },
      "outputs": [
        {
          "data": {
            "image/png": "[encoded data removed]",
            "text/plain": [
              "<Figure size 640x480 with 1 Axes>"
            ]
          },
          "metadata": {},
          "output_type": "display_data"
        }
      ],
      "source": [
        "# TODO 1.4: Plot learning curve precision@k(epoch)\n",
        "figure, ax = pl.subplots()\n",
        "\n",
        "ax.plot(list(range(len(precisions_at))), precisions_at, \"r\", label=\"precision@10(epoch)\")\n",
        "\n",
        "ax.set_xlabel(\"epoch\")\n",
        "ax.legend()\n",
        "\n",
        "pass"
      ]
    },
    {
      "cell_type": "markdown",
      "metadata": {
        "id": "m0tq_7-5C5P1"
      },
      "source": [
        "## Обучение модели на всё датасете"
      ]
    },
    {
      "cell_type": "code",
      "execution_count": null,
      "metadata": {
        "colab": {
          "base_uri": "https://localhost:8080/"
        },
        "id": "GnbnA7Vj3Oy9",
        "outputId": "9e78f2de-35f4-4233-f934-5dffdd793558"
      },
      "outputs": [
        {
          "output_type": "stream",
          "name": "stderr",
          "text": [
            "Epoch: 100%|██████████| 20/20 [1:21:31<00:00, 244.60s/it]\n"
          ]
        },
        {
          "output_type": "execute_result",
          "data": {
            "text/plain": [
              "<lightfm.lightfm.LightFM at 0x7bc2afed25f0>"
            ]
          },
          "metadata": {},
          "execution_count": 13
        }
      ],
      "source": [
        "# Обучение модели LightFM\n",
        "model = lightfm.LightFM(\n",
        "    loss='warp',\n",
        "    no_components=40,\n",
        "    learning_rate=0.1,\n",
        "    max_sampled=100000,\n",
        "    user_alpha=0.0,\n",
        "    item_alpha=0.0,\n",
        ")\n",
        "model.fit(train_interactions, sample_weight=weights, epochs=20, num_threads=30, verbose=True)"
      ]
    },
    {
      "cell_type": "code",
      "execution_count": null,
      "metadata": {
        "id": "6tbHIENSC5P1"
      },
      "outputs": [],
      "source": [
        "from lightfm.evaluation import auc_score\n",
        "\n",
        "precision_at = lv.precision_at_k(model, test_interactions, train_interactions=train_interactions, k=10, num_threads=30)\n",
        "train_auc = auc_score(model, train_interactions, num_threads=30).mean()\n",
        "test_auc = auc_score(model, test_interactions, train_interactions=train_interactions, num_threads=30).mean()\n",
        "\n",
        "print(f\"Precision at 10  = {precision_at}\")\n",
        "print(f\"ROCS AUC at train = {train_auc}\")\n",
        "print(f\"ROCS AUC at test = {test_auc}\")"
      ]
    },
    {
      "cell_type": "code",
      "execution_count": null,
      "metadata": {
        "id": "-pYKcZ6AC5P1"
      },
      "outputs": [],
      "source": [
        "scores = model.predict(test_data[[\"user\"]], test_data[ \"track\"])\n",
        "get_test_csv(test_data, scores)\n",
        "print(\"Результаты предсказаний модели на тестовом наборе данных:\")\n",
        "print(scores)"
      ]
    }
  ],
  "metadata": {
    "colab": {
      "provenance": []
    },
    "kernelspec": {
      "display_name": "Python 3 (ipykernel)",
      "language": "python",
      "name": "python3"
    },
    "language_info": {
      "codemirror_mode": {
        "name": "ipython",
        "version": 3
      },
      "file_extension": ".py",
      "mimetype": "text/x-python",
      "name": "python",
      "nbconvert_exporter": "python",
      "pygments_lexer": "ipython3",
      "version": "3.10.0"
    }
  },
  "nbformat": 4,
  "nbformat_minor": 0
}